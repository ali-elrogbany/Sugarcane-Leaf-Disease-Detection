{
 "cells": [
  {
   "cell_type": "code",
   "execution_count": null,
   "metadata": {},
   "outputs": [],
   "source": [
    "import numpy as np\n",
    "from PIL import Image\n",
    "import gradio as gr\n",
    "from tensorflow.keras.models import load_model\n",
    "from tensorflow.keras.optimizers import Adam"
   ]
  },
  {
   "cell_type": "code",
   "execution_count": null,
   "metadata": {},
   "outputs": [],
   "source": [
    "class_names = ['Healthy', 'Mosaic', 'RedRot', 'Rust', 'Yellow']"
   ]
  },
  {
   "cell_type": "code",
   "execution_count": null,
   "metadata": {},
   "outputs": [],
   "source": [
    "def predict_image(img, model):\n",
    "    img = Image.fromarray(img.astype('uint8'))  # Convert array back to image\n",
    "    img = img.resize((32, 32))  # Ensure the image is the correct size\n",
    "    img_array = np.array(img)\n",
    "    img_4d = img_array.reshape(-1, 32, 32, 3)\n",
    "    prediction = model.predict(img_4d)[0]\n",
    "    return {class_names[i]: float(prediction[i]) for i in range(len(class_names))}"
   ]
  },
  {
   "cell_type": "code",
   "execution_count": null,
   "metadata": {},
   "outputs": [],
   "source": [
    "model_path = 'models/customCNN1_recompiled.h5'\n",
    "model = load_model(model_path)\n",
    "\n",
    "image_input = gr.Image()\n",
    "label_output = gr.Label(num_top_classes=5)\n",
    "\n",
    "gr.Interface(fn=(lambda x : predict_image(x, model)), inputs=image_input, outputs=label_output).launch(debug=True)"
   ]
  }
 ],
 "metadata": {
  "kernelspec": {
   "display_name": "env",
   "language": "python",
   "name": "python3"
  },
  "language_info": {
   "codemirror_mode": {
    "name": "ipython",
    "version": 3
   },
   "file_extension": ".py",
   "mimetype": "text/x-python",
   "name": "python",
   "nbconvert_exporter": "python",
   "pygments_lexer": "ipython3",
   "version": "3.9.18"
  }
 },
 "nbformat": 4,
 "nbformat_minor": 2
}
